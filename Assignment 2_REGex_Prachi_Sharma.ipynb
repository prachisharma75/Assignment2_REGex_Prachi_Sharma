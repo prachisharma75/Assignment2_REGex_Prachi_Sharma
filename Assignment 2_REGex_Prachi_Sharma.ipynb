{
 "cells": [
  {
   "cell_type": "markdown",
   "metadata": {},
   "source": [
    "# Task 2\n",
    "# Registration Id - SIRSS1187\n",
    "# Prachi Sharma\n"
   ]
  },
  {
   "cell_type": "markdown",
   "metadata": {},
   "source": [
    "# Lambda expression to extract first word of a string."
   ]
  },
  {
   "cell_type": "code",
   "execution_count": 1,
   "metadata": {},
   "outputs": [
    {
     "data": {
      "text/plain": [
       "'Knowledge'"
      ]
     },
     "execution_count": 1,
     "metadata": {},
     "output_type": "execute_result"
    }
   ],
   "source": [
    "x = lambda a : a.split()[0]\n",
    "\n",
    "x('Knowledge not shared is wasted')"
   ]
  },
  {
   "cell_type": "markdown",
   "metadata": {},
   "source": [
    "# Function to extract first word of s string (with many words separated by space)."
   ]
  },
  {
   "cell_type": "code",
   "execution_count": 2,
   "metadata": {},
   "outputs": [
    {
     "name": "stdout",
     "output_type": "stream",
     "text": [
      "Statistics\n"
     ]
    }
   ],
   "source": [
    "p = 'Statistics is the science of learning from data'\n",
    "def firstword(p):\n",
    "    return p.split()[0]\n",
    "print(firstword(p))"
   ]
  },
  {
   "cell_type": "markdown",
   "metadata": {},
   "source": [
    "# Extract the first word from every string from a list of strings by using map function."
   ]
  },
  {
   "cell_type": "code",
   "execution_count": 3,
   "metadata": {},
   "outputs": [
    {
     "data": {
      "text/plain": [
       "['DeepLearning', 'NeuralNetworks', 'ArtificialIntelligence']"
      ]
     },
     "execution_count": 3,
     "metadata": {},
     "output_type": "execute_result"
    }
   ],
   "source": [
    "Range = ['DeepLearning is subset of Neural Networks','NeuralNetworks is part of ML','ArtificialIntelligence contains all three']\n",
    "\n",
    "list(map(x, Range))"
   ]
  },
  {
   "cell_type": "markdown",
   "metadata": {},
   "source": [
    "# Function to return a list of prime factors of a given number."
   ]
  },
  {
   "cell_type": "code",
   "execution_count": 4,
   "metadata": {},
   "outputs": [
    {
     "name": "stdout",
     "output_type": "stream",
     "text": [
      "80\n",
      "[1, 2, 5]\n"
     ]
    }
   ],
   "source": [
    "def primefactors(n):\n",
    "    for i in range(2,int(n**(0.5))+1):\n",
    "        if n%i==0:\n",
    "            return 0\n",
    "    else:\n",
    "        return 1\n",
    "n=int(input())\n",
    "p=[1]\n",
    "for i in range(2,n+1):\n",
    "    if n%i==0:\n",
    "        if (primefactors(i)) ==1:\n",
    "            p.append(i)\n",
    "print(p)"
   ]
  },
  {
   "cell_type": "markdown",
   "metadata": {},
   "source": [
    "# Function that finds 2nd largest number"
   ]
  },
  {
   "cell_type": "code",
   "execution_count": 5,
   "metadata": {},
   "outputs": [
    {
     "name": "stdout",
     "output_type": "stream",
     "text": [
      "Second largest number is :  1019089\n"
     ]
    }
   ],
   "source": [
    "Random_numbers = [1019089,2311211,32789,767299]\n",
    " \n",
    "Max = max(Random_numbers[0],Random_numbers[1])\n",
    "Min = min(Random_numbers[0],Random_numbers[1])\n",
    "\n",
    "n =len(Random_numbers)\n",
    "for i in range(2,n):\n",
    "    if Random_numbers[i]>Max:\n",
    "        Min = Max\n",
    "        Max = Random_numbers[i]\n",
    "    elif Random_numbers[i]>Min and \\\n",
    "        Max != Random_numbers[i]:\n",
    "        Min = Random_numbers[i]\n",
    " \n",
    "print(\"Second largest number is : \",\\\n",
    "      str(Min))"
   ]
  },
  {
   "cell_type": "code",
   "execution_count": null,
   "metadata": {},
   "outputs": [],
   "source": []
  }
 ],
 "metadata": {
  "kernelspec": {
   "display_name": "Python 3",
   "language": "python",
   "name": "python3"
  },
  "language_info": {
   "codemirror_mode": {
    "name": "ipython",
    "version": 3
   },
   "file_extension": ".py",
   "mimetype": "text/x-python",
   "name": "python",
   "nbconvert_exporter": "python",
   "pygments_lexer": "ipython3",
   "version": "3.8.5"
  }
 },
 "nbformat": 4,
 "nbformat_minor": 4
}
